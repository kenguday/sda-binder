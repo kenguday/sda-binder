{
 "cells": [
  {
   "cell_type": "markdown",
   "id": "bb2bfdbb",
   "metadata": {},
   "source": [
    "## Learning how to count\n"
   ]
  },
  {
   "cell_type": "markdown",
   "id": "2703f2f9",
   "metadata": {},
   "source": [
    "We are counting things around us. I want to count the number of pens and notebooks on my desk, and add up the things on my desk. \n",
    "\n",
    "First, I will create two **variables**, `pens` and `notebooks`. Then, I will **assign** values to them by using the `=` (equals) sign. I have 3 pens and 2 notebooks on my desk."
   ]
  },
  {
   "cell_type": "code",
   "execution_count": null,
   "id": "66075396",
   "metadata": {},
   "outputs": [],
   "source": [
    "pens = 3\n",
    "notebooks = 2"
   ]
  },
  {
   "cell_type": "markdown",
   "id": "313623ae",
   "metadata": {},
   "source": [
    "Now I want to make sure those variables contain the right values."
   ]
  },
  {
   "cell_type": "code",
   "execution_count": null,
   "id": "1eda6822",
   "metadata": {},
   "outputs": [],
   "source": [
    "pens"
   ]
  },
  {
   "cell_type": "code",
   "execution_count": null,
   "id": "9e363ce7",
   "metadata": {},
   "outputs": [],
   "source": [
    "notebooks"
   ]
  },
  {
   "cell_type": "markdown",
   "id": "21f0c080",
   "metadata": {},
   "source": [
    "Next, I will print this information in a nice format."
   ]
  },
  {
   "cell_type": "code",
   "execution_count": null,
   "id": "28510f25",
   "metadata": {},
   "outputs": [],
   "source": [
    "print(\"I will count things around me.\")\n",
    "print(\"I have these many pens:\", pens)\n",
    "print(\"I have these many notebooks:\", notebooks)"
   ]
  },
  {
   "cell_type": "markdown",
   "id": "4887a57a",
   "metadata": {},
   "source": [
    "Now, I add them up. I create a new variable, `total`."
   ]
  },
  {
   "cell_type": "code",
   "execution_count": null,
   "id": "61382c5e",
   "metadata": {},
   "outputs": [],
   "source": [
    "total = pens + notebooks"
   ]
  },
  {
   "cell_type": "markdown",
   "id": "2b951cdc",
   "metadata": {},
   "source": [
    "I can now print this information all in one sentence."
   ]
  },
  {
   "cell_type": "code",
   "execution_count": null,
   "id": "b71d3371",
   "metadata": {},
   "outputs": [],
   "source": [
    "print(\"I have\", total, \"things on my desk\")"
   ]
  },
  {
   "cell_type": "markdown",
   "id": "a0800e39",
   "metadata": {},
   "source": [
    "It's your turn! Follow exactly the same steps to count two things around you and print the result. "
   ]
  },
  {
   "cell_type": "code",
   "execution_count": null,
   "id": "4ba4a12d",
   "metadata": {},
   "outputs": [],
   "source": []
  }
 ],
 "metadata": {
  "kernelspec": {
   "display_name": "Python 3 (ipykernel)",
   "language": "python",
   "name": "python3"
  },
  "language_info": {
   "codemirror_mode": {
    "name": "ipython",
    "version": 3
   },
   "file_extension": ".py",
   "mimetype": "text/x-python",
   "name": "python",
   "nbconvert_exporter": "python",
   "pygments_lexer": "ipython3",
   "version": "3.9.7"
  }
 },
 "nbformat": 4,
 "nbformat_minor": 5
}
