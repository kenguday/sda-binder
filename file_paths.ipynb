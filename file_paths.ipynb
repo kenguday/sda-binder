{
 "cells": [
  {
   "cell_type": "markdown",
   "metadata": {},
   "source": [
    "## File structure, file paths, directories\n",
    "\n",
    "Go to this great tutorial: [Reading and writing files](https://automatetheboringstuff.com/chapter8/)"
   ]
  },
  {
   "cell_type": "code",
   "execution_count": null,
   "metadata": {},
   "outputs": [],
   "source": [
    "import os"
   ]
  },
  {
   "cell_type": "markdown",
   "metadata": {},
   "source": [
    "Two ways to find out where you are, `os.getcwd()` or `pwd`. "
   ]
  },
  {
   "cell_type": "code",
   "execution_count": null,
   "metadata": {},
   "outputs": [],
   "source": [
    "os.getcwd()"
   ]
  },
  {
   "cell_type": "code",
   "execution_count": 1,
   "metadata": {},
   "outputs": [
    {
     "data": {
      "text/plain": [
       "'C:\\\\Maite\\\\MOD\\\\notebooks\\\\SDA250\\\\sda-binder'"
      ]
     },
     "execution_count": 1,
     "metadata": {},
     "output_type": "execute_result"
    }
   ],
   "source": [
    "pwd"
   ]
  },
  {
   "cell_type": "markdown",
   "metadata": {},
   "source": [
    "## Absolute and relative paths\n",
    "\n",
    "An absolute path contains the entire path, from the root drive (the 'C' drive in my case).\n",
    "\n",
    "A relative path is relative to where you are. For instance, if I am in \"C:/Maite/MOD/notebooks/sda-binder/\", a relative path to take me to \"notebooks\" from there is \"../\", which means \"go one level up\"."
   ]
  },
  {
   "cell_type": "code",
   "execution_count": null,
   "metadata": {},
   "outputs": [],
   "source": [
    "#This is an absolute way to change, by giving it the complete path\n",
    "os.chdir('C:/Maite/MOD/notebooks')"
   ]
  },
  {
   "cell_type": "code",
   "execution_count": null,
   "metadata": {},
   "outputs": [],
   "source": [
    "pwd"
   ]
  },
  {
   "cell_type": "code",
   "execution_count": null,
   "metadata": {},
   "outputs": [],
   "source": [
    "#I'll change back to my original location\n",
    "os.chdir('C:/Maite/MOD/notebooks/SDA250/sda-binder')"
   ]
  },
  {
   "cell_type": "code",
   "execution_count": null,
   "metadata": {},
   "outputs": [],
   "source": [
    "pwd"
   ]
  },
  {
   "cell_type": "code",
   "execution_count": null,
   "metadata": {},
   "outputs": [],
   "source": [
    "#And I can go one level up with a relative instruction\n",
    "os.chdir('../')"
   ]
  },
  {
   "cell_type": "code",
   "execution_count": null,
   "metadata": {},
   "outputs": [],
   "source": [
    "pwd"
   ]
  },
  {
   "cell_type": "code",
   "execution_count": null,
   "metadata": {},
   "outputs": [],
   "source": [
    "#I'll change back to my original location\n",
    "os.chdir('C:/Maite/MOD/notebooks/SDA250/sda-binder')"
   ]
  },
  {
   "cell_type": "code",
   "execution_count": null,
   "metadata": {},
   "outputs": [],
   "source": [
    "pwd"
   ]
  },
  {
   "cell_type": "markdown",
   "metadata": {},
   "source": [
    "## Opening files\n",
    "\n",
    "You open a file with the `open()` function. This returns a `File` object. To store that object, you need to create a variable, with a command like `file = open('filePath')`. \n",
    "\n",
    "Try this for yourself. In a directory, create a `hello.txt` file. I have created one in the `data/` directory under the same directory as this notebook. Then, read it into a variable. You can call the `open()` function with an absolute or a relative path. The result is the same. "
   ]
  },
  {
   "cell_type": "code",
   "execution_count": null,
   "metadata": {},
   "outputs": [],
   "source": [
    "# absolute path. You will need to change the path to your own directory structure\n",
    "helloFile = open('C:/Maite/MOD/notebooks/SDA250/sda-binder/data/hello.txt')"
   ]
  },
  {
   "cell_type": "code",
   "execution_count": null,
   "metadata": {},
   "outputs": [],
   "source": [
    "# relative path, assuming you have a 'data' directory here\n",
    "helloFile = open('./data/hello.txt')"
   ]
  },
  {
   "cell_type": "code",
   "execution_count": null,
   "metadata": {},
   "outputs": [],
   "source": [
    "# print the variable. You will see you just have a file object\n",
    "helloFile"
   ]
  },
  {
   "cell_type": "code",
   "execution_count": null,
   "metadata": {},
   "outputs": [],
   "source": [
    "# to do anything useful with the file,  you need to read the contents\n",
    "helloContent = helloFile.read()"
   ]
  },
  {
   "cell_type": "code",
   "execution_count": null,
   "metadata": {},
   "outputs": [],
   "source": [
    "helloContent"
   ]
  },
  {
   "cell_type": "markdown",
   "metadata": {},
   "source": [
    "## Writing to files\n",
    "\n",
    "We have seen the `print()` function to print results to the screen. But sometimes you want to save the results of your work for later (remember that any results and variable assignations are lost once you close the notebook). Then we use the `write()` function. \n",
    "\n",
    "To write to a file, you can first create it by going to your directory structure and creating a new file. Or you can create it directly, by calling the `open()` function with the name of the file you want to create and putting it in `w` mode (writing mode). "
   ]
  },
  {
   "cell_type": "code",
   "execution_count": null,
   "metadata": {},
   "outputs": [],
   "source": [
    "# create a goodbye file and make it writeable. I like to create it in the data/ directory\n",
    "goodbyeFile = open('./data/goodbye.txt', 'w')"
   ]
  },
  {
   "cell_type": "code",
   "execution_count": null,
   "metadata": {},
   "outputs": [],
   "source": [
    "# now write something to it\n",
    "goodbyeFile.write('Goodbye!')\n",
    "# and close the file\n",
    "goodbyeFile.close()"
   ]
  },
  {
   "cell_type": "markdown",
   "metadata": {},
   "source": [
    "If you want to see the contents of the goodbye file, you can open it and put the contents into a variable. "
   ]
  },
  {
   "cell_type": "code",
   "execution_count": null,
   "metadata": {},
   "outputs": [],
   "source": [
    "goodbyeRead = open('./data/goodbye.txt')\n",
    "goodbyeContent = goodbyeRead.read()\n",
    "goodbyeContent"
   ]
  },
  {
   "cell_type": "markdown",
   "metadata": {},
   "source": [
    "## Practice: MadLibs!\n",
    "\n",
    "Have you ever played MadLibs? It's a fun game, where you create a template and ask people to fill in nouns, verbs, and adjectives. The results can be funny. \n",
    "\n",
    "We are going to start with a template, stored in a plain text file. The template will have variables for adjectives, nouns, and such. You'll read it into a variable and then you'll ask the user for information, so that you can fill them into the template. We are using the [Mad Libs vacation template](https://www.madlibs.com/printables/). But first, we'll start with a simple line, printing to the screen. "
   ]
  },
  {
   "cell_type": "code",
   "execution_count": null,
   "metadata": {},
   "outputs": [],
   "source": [
    "name = input(\"Enter a name: \")\n",
    "verb = input(\"Enter a verb in the past tense: \")\n",
    "adjective = input(\"Enter an adjective:\")\n",
    "noun = input(\"Enter a noun: \")\n",
    "\n",
    "print(name, verb, \"very\", adjective, \"all the way to the\", noun)"
   ]
  },
  {
   "cell_type": "markdown",
   "metadata": {},
   "source": [
    "Now we are going to do the same, but by reading the template from a file and then printing it to a file as well."
   ]
  },
  {
   "cell_type": "code",
   "execution_count": null,
   "metadata": {},
   "outputs": [],
   "source": [
    "storyFile = open('./data/MadLibVacation.txt', 'r')\n",
    "story = storyFile.read()\n",
    "storyFile.close()"
   ]
  },
  {
   "cell_type": "code",
   "execution_count": null,
   "metadata": {},
   "outputs": [],
   "source": [
    "story"
   ]
  },
  {
   "cell_type": "code",
   "execution_count": null,
   "metadata": {},
   "outputs": [],
   "source": [
    "# we will use the substitution function in the regular expression library\n",
    "import re"
   ]
  },
  {
   "cell_type": "code",
   "execution_count": null,
   "metadata": {},
   "outputs": [],
   "source": [
    "adj1 = input(\"Enter an adjective: \")\n",
    "adj2 = input(\"Enter another adjective: \")\n",
    "noun1 = input(\"Enter a noun: \")\n",
    "noun2 = input(\"Enter another noun: \")\n",
    "plural_noun = input(\"Enter a plural noun: \")\n",
    "game = input(\"Enter a game: \")\n",
    "ing_verb1 = input(\"Enter verb in the gerund (the -ing form): \")\n",
    "\n",
    "story = re.sub(r'adj1', adj1, story)\n",
    "story = re.sub(r'adj2', adj2, story)\n",
    "story = re.sub(r'noun1', noun1, story)\n",
    "story = re.sub(r'noun2', noun2, story)\n",
    "story = re.sub(r'plural_noun', plural_noun, story)\n",
    "story = re.sub(r'game', game, story)\n",
    "story = re.sub(r'ing_verb1', ing_verb1, story)\n",
    "\n",
    "print(\"\\r\\n This is your story:\")\n",
    "print(story)"
   ]
  },
  {
   "cell_type": "code",
   "execution_count": null,
   "metadata": {},
   "outputs": [],
   "source": [
    "# now you can write your story to a file\n",
    "storyOutput = open('./data/storyOutput.txt', 'w')\n",
    "storyOutput.write(story)\n",
    "storyOutput.close()"
   ]
  },
  {
   "cell_type": "markdown",
   "metadata": {},
   "source": [
    "Now, what we did with the multiple commands (input and sub commands) is incredibly tedious. You could do it by using an `if` or a `for` loop instead. "
   ]
  },
  {
   "cell_type": "code",
   "execution_count": null,
   "metadata": {},
   "outputs": [],
   "source": []
  }
 ],
 "metadata": {
  "kernelspec": {
   "display_name": "Python 3",
   "language": "python",
   "name": "python3"
  },
  "language_info": {
   "codemirror_mode": {
    "name": "ipython",
    "version": 3
   },
   "file_extension": ".py",
   "mimetype": "text/x-python",
   "name": "python",
   "nbconvert_exporter": "python",
   "pygments_lexer": "ipython3",
   "version": "3.7.3"
  }
 },
 "nbformat": 4,
 "nbformat_minor": 2
}
