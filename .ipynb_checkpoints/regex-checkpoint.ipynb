{
 "cells": [
  {
   "cell_type": "markdown",
   "metadata": {},
   "source": [
    "# Regular expressions\n",
    "\n",
    "We will use the python module `re` for regular expressions. To find out what functions it contains, we can use the `dir` command. Once we know one of the functions may be useful, we can look up a description with `help(function_name)`. "
   ]
  },
  {
   "cell_type": "code",
   "execution_count": null,
   "metadata": {},
   "outputs": [],
   "source": [
    "import re"
   ]
  },
  {
   "cell_type": "code",
   "execution_count": null,
   "metadata": {},
   "outputs": [],
   "source": [
    "dir(re)"
   ]
  },
  {
   "cell_type": "code",
   "execution_count": null,
   "metadata": {},
   "outputs": [],
   "source": [
    "help(re.sub)"
   ]
  },
  {
   "cell_type": "markdown",
   "metadata": {},
   "source": [
    "Define a string with HTML code in it. "
   ]
  },
  {
   "cell_type": "code",
   "execution_count": null,
   "metadata": {},
   "outputs": [],
   "source": [
    "string = \"<p><strong>Week (starting Monday)<br /></strong></p>\""
   ]
  },
  {
   "cell_type": "code",
   "execution_count": null,
   "metadata": {},
   "outputs": [],
   "source": [
    "string"
   ]
  },
  {
   "cell_type": "markdown",
   "metadata": {},
   "source": [
    "Now use the `re.sub()` function to clean it up. You can check what the pattern means by going here: [Regex101](https://regex101.com/). \n",
    "\n",
    "You can read the following line of code as:\n",
    "\n",
    "- create a variable, `stringClean`\n",
    "- assign the output of the re.sub function to that variable (that's what the equal sign does, assign a value to a variable)\n",
    "- use the `re.sub()` function. That means, the `sub` (substitute/replace) function that you can find in the `re` library\n",
    "- use the `re.sub()` function with the following arguments:\n",
    "    - find all instances of the string `<.*?>`\n",
    "    - replace all of them with nothing (`''`)\n",
    "    - and do that on the contents of the variable `string`\n",
    "    \n",
    "The meaning of the regular expression `<.*?>`: \n",
    "- Find a pattern that starts with an open angle bracket `<` and ends with a closed angle bracket `>`\n",
    "- Match any character (`.`) inside the brackets\n",
    "- Do that 0 or more times (`*`)\n",
    "- Match the previous character 0 or more times (`?`). This accounts for instances of empty brackets (`<>`)"
   ]
  },
  {
   "cell_type": "code",
   "execution_count": null,
   "metadata": {},
   "outputs": [],
   "source": [
    "stringClean = re.sub('<.*?>', '', string)"
   ]
  },
  {
   "cell_type": "markdown",
   "metadata": {},
   "source": [
    "The previous line just does that operation and assigns the output to the variable `stringClean`. If you want to see the contents of `stringClean`, you can just type it."
   ]
  },
  {
   "cell_type": "code",
   "execution_count": null,
   "metadata": {},
   "outputs": [],
   "source": [
    "stringClean"
   ]
  },
  {
   "cell_type": "markdown",
   "metadata": {},
   "source": [
    "Notice that `string` still has all the HTML stuff. We haven't changed it; we have only used it to create stringClean."
   ]
  },
  {
   "cell_type": "code",
   "execution_count": null,
   "metadata": {},
   "outputs": [],
   "source": [
    "string"
   ]
  },
  {
   "cell_type": "markdown",
   "metadata": {},
   "source": [
    "Now do the same, but remove only the `strong` tag."
   ]
  },
  {
   "cell_type": "code",
   "execution_count": null,
   "metadata": {},
   "outputs": [],
   "source": [
    "stringCleanStrong = re.sub('<\\/*strong>', '', string)"
   ]
  },
  {
   "cell_type": "code",
   "execution_count": null,
   "metadata": {},
   "outputs": [],
   "source": [
    "stringCleanStrong"
   ]
  },
  {
   "cell_type": "code",
   "execution_count": null,
   "metadata": {},
   "outputs": [],
   "source": []
  }
 ],
 "metadata": {
  "kernelspec": {
   "display_name": "Python 3",
   "language": "python",
   "name": "python3"
  },
  "language_info": {
   "codemirror_mode": {
    "name": "ipython",
    "version": 3
   },
   "file_extension": ".py",
   "mimetype": "text/x-python",
   "name": "python",
   "nbconvert_exporter": "python",
   "pygments_lexer": "ipython3",
   "version": "3.7.3"
  }
 },
 "nbformat": 4,
 "nbformat_minor": 2
}
